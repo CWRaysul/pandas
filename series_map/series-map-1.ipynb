{
 "cells": [
  {
   "cell_type": "code",
   "execution_count": 19,
   "metadata": {},
   "outputs": [
    {
     "data": {
      "text/plain": [
       "0    Java\n",
       "1       C\n",
       "2     C++\n",
       "3     nan\n",
       "dtype: object"
      ]
     },
     "execution_count": 19,
     "metadata": {},
     "output_type": "execute_result"
    }
   ],
   "source": [
    "import pandas as pd\n",
    "import numpy as np\n",
    "a = pd.Series(['Java', 'C', 'C++', np.nan])\n",
    "# a.map({'Java': 'Core'})\n",
    "a.map(format)\n"
   ]
  }
 ],
 "metadata": {
  "kernelspec": {
   "display_name": "Python 3.10.6 64-bit",
   "language": "python",
   "name": "python3"
  },
  "language_info": {
   "codemirror_mode": {
    "name": "ipython",
    "version": 3
   },
   "file_extension": ".py",
   "mimetype": "text/x-python",
   "name": "python",
   "nbconvert_exporter": "python",
   "pygments_lexer": "ipython3",
   "version": "3.10.6"
  },
  "orig_nbformat": 4,
  "vscode": {
   "interpreter": {
    "hash": "14e95732a55125fad74b28a58dc672a532f7f4194d1af2ed3702ad06abe44c97"
   }
  }
 },
 "nbformat": 4,
 "nbformat_minor": 2
}
